{
 "cells": [
  {
   "cell_type": "markdown",
   "id": "5a59772c",
   "metadata": {},
   "source": [
    "Q1. How do you comment code in Python? What are the different types of comments?"
   ]
  },
  {
   "cell_type": "markdown",
   "id": "106d53a9",
   "metadata": {},
   "source": [
    "There are two types of comments in Python: single-line comments and multi-line comments.\n",
    "\n",
    "1.Single-line comments: Single-line comments are used to comment on a single line. Anything written after the # symbol on a line is considered a comment and is ignored by the Python interpreter. Single-line comments are often used for brief explanations or clarifications.\n",
    "2.Multi-line comments: Multi-line comments, also known as block comments, are used to comment multiple lines or a block of code. In Python, there is no specific syntax for multi-line comments like some other programming languages. However, you can use triple quotes (\"\"\" or ''') to create a multi-line string that can serve as a comment. These multi-line strings are not assigned to any variable and are essentially ignored by the interpreter.\n",
    "\n",
    "example of a multi-line comment\n",
    "\n",
    "\"\"\"\n",
    "This is a multi-line comment.\n",
    "It can span across multiple lines.\n",
    "Use triple quotes to enclose the comment.\n",
    "\"\"\""
   ]
  },
  {
   "cell_type": "markdown",
   "id": "258efb29",
   "metadata": {},
   "source": [
    "Q2. What are variables in Python? How do you declare and assign values to variables?"
   ]
  },
  {
   "cell_type": "raw",
   "id": "6f6da73a",
   "metadata": {},
   "source": [
    "To declare and assign values to variables in Python, you need to follow these rules:\n",
    "\n",
    "1.Variable Declaration: In Python, you don't need to explicitly declare variables before assigning values to them. You can simply assign a value to a variable directly.\n",
    "\n",
    "2.Variable Name: A variable name is a combination of letters (a-z, A-Z), digits (0-9), and underscores (_). It must start with a letter or an underscore. Python is case-sensitive, so variables named my_variable and My_Variable would be considered different.\n",
    "\n",
    "3.Assignment Operator: The assignment operator (=) is used to assign values to variables. The value on the right side of the = is assigned to the variable on the left side.\n",
    "\n",
    "\n",
    "Here are a few examples of declaring variables and assigning values:\n",
    "\n",
    "age = 25\n",
    "name = \"John Doe\"\n",
    "fruits = ['apple','banana','orange']\n",
    "is_active = True\n",
    "print(\"Name:\", name)\n",
    "print(\"Age:\", age)\n",
    "total_fruits = len(fruits)\n",
    "print(\"Total fruits:\", total_fruits)\n",
    "\n",
    "OUTPUT:\n",
    "\n",
    "Name: John Doe\n",
    "Age: 25\n",
    "Total fruits: 3\n"
   ]
  },
  {
   "cell_type": "markdown",
   "id": "35b41299",
   "metadata": {},
   "source": [
    "Q3. How do you convert one data type to another in Python?"
   ]
  },
  {
   "cell_type": "raw",
   "id": "157a3155",
   "metadata": {},
   "source": [
    "1.int(): Converts a value to an integer data type.\n",
    "    x = int(3.14)  # x will be 3\n",
    "    \n",
    "2.float(): Converts a value to a floating-point data type.\n",
    "   y = float(\"2.5\")  # y will be 2.5\n",
    "\n",
    "3.str(): Converts a value to a string data type.\n",
    "   z = str(42)  # z will be \"42\"\n",
    "\n",
    "4.list(): Converts an iterable or sequence to a list.\n",
    "    numbers = list((1, 2, 3, 4))  # numbers will be [1, 2, 3, 4]\n",
    "    \n",
    "5.tuple(): Converts an iterable or sequence to a tuple.\n",
    "    fruits = tuple([\"apple\", \"banana\", \"orange\"])  # fruits will be ('apple', 'banana', 'orange')\n",
    "    "
   ]
  },
  {
   "cell_type": "markdown",
   "id": "cd17c9b8",
   "metadata": {},
   "source": [
    "Q4. How do you write and execute a Python script from the command line?"
   ]
  },
  {
   "cell_type": "markdown",
   "id": "36c952cf",
   "metadata": {},
   "source": [
    "To write and execute a Python script from the command line, follow these steps:\n",
    "\n",
    "1.Open a text editor and write your Python code. Save the file with a .py extension. For example, you can create a file named script.py and write your code in it.\n",
    "\n",
    "2.Open a command prompt or terminal window.\n",
    "\n",
    "3.Navigate to the directory where your Python script is saved using the cd command. For example, if your script is saved in the \"Documents\" folder on Windows, you can navigate to it by running the following command:\n",
    "\n",
    "4.Once you are in the correct directory, you can execute the Python script using the python command followed by the script filename. For example, to execute the script.py file, run the following command:\n",
    "\n",
    "5.The Python interpreter will read and execute the code in your script, and any output or results will be displayed in the command prompt or terminal window."
   ]
  },
  {
   "cell_type": "raw",
   "id": "262f6e2d",
   "metadata": {},
   "source": [
    "5. Given a list my_list = [1, 2, 3, 4, 5], write the code to slice the list and obtain the sub-list [2, 3]."
   ]
  },
  {
   "cell_type": "raw",
   "id": "9649c795",
   "metadata": {},
   "source": [
    "my_list = [1, 2, 3, 4, 5]\n",
    "sub_list = my_list[1:3]\n",
    "print(sub_list)\n",
    "\n",
    "\n",
    "output:\n",
    "    [2, 3]\n"
   ]
  },
  {
   "cell_type": "raw",
   "id": "873f2c9d",
   "metadata": {},
   "source": [
    "Q6. What is a complex number in mathematics, and how is it represented in Python?"
   ]
  },
  {
   "cell_type": "raw",
   "id": "3576a3c6",
   "metadata": {},
   "source": [
    "# Using complex() constructor\n",
    "z1 = complex(2, 3)  # z1 = 2 + 3i\n",
    "\n",
    "# Directly specifying the real and imaginary parts\n",
    "z2 = 4 + 5j  # z2 = 4 + 5i\n",
    "In mathematics, a complex number is a number that consists of both a real part and an imaginary part. It is represented in the form of a + bi, where a is the real part and b is the imaginary part, and i represents the imaginary unit (√(-1)).\n",
    "\n",
    "In Python, complex numbers are represented using the complex data type. The complex type is a built-in numeric type in Python, and complex numbers can be created by using the complex() constructor or by directly specifying the real and imaginary parts.\n",
    "\n",
    "Here are a few examples of creating complex numbers in Python:\n",
    "\n",
    "z1 = 2 + 3j\n",
    "z2 = 4 + 5j\n",
    "\n",
    "addition = z1 + z2  # Addition: (2 + 3i) + (4 + 5i) = 6 + 8i\n",
    "subtraction = z1 - z2  # Subtraction: (2 + 3i) - (4 + 5i) = -2 - 2i\n",
    "multiplication = z1 * z2  # Multiplication: (2 + 3i) * (4 + 5i) = -7 + 22i\n",
    "division = z1 / z2  # Division: (2 + 3i) / (4 + 5i) = 0.5609756097560976 + 0.0487804878048781i\n",
    "\n",
    "print(addition)\n",
    "print(subtraction)\n",
    "print(multiplication)\n",
    "print(division)\n",
    "\n",
    "\n",
    "output:\n",
    "(6+8j)\n",
    "(-2-2j)\n",
    "(-7+22j)\n",
    "(0.5609756097560976+0.0487804878048781j)\n"
   ]
  },
  {
   "cell_type": "raw",
   "id": "dd597d62",
   "metadata": {},
   "source": [
    "7.What is the correct way to declare a variable named age and assign the value 25 to it?"
   ]
  },
  {
   "cell_type": "raw",
   "id": "1436698e",
   "metadata": {},
   "source": [
    "age = 25\n",
    "print(\"The age is:\", age)\n",
    "output:\n",
    "    The age is: 25\n",
    "\n",
    "\n"
   ]
  },
  {
   "cell_type": "raw",
   "id": "7d9c776b",
   "metadata": {},
   "source": [
    "Q8. Declare a variable named price and assign the value 9.99 to it. What data type does this variable\n",
    "belong to?"
   ]
  },
  {
   "cell_type": "raw",
   "id": "6d5bf2c4",
   "metadata": {},
   "source": [
    "# price = 9.99\n",
    "\n",
    "In Python, values with a decimal point are considered floating-point numbers. The 9.99 value is a decimal number, so it belongs to the floating-point data type. Floating-point numbers represent real numbers and can have both integer and fractional parts.\n",
    "\n",
    "You can perform arithmetic operations, comparisons, and other mathematical operations on floating-point numbers in Python. They are commonly used to represent and work with values that involve decimal places, such as prices, measurements, and calculations involving precision.\n",
    "\n",
    "It's worth noting that the floating-point data type in Python is approximate, and it has limitations in representing certain values precisely due to the internal representation of floating-point numbers. Thus, when dealing with critical calculations that require high precision, it's important to consider the potential limitations of floating-point arithmetic and use appropriate techniques or libraries for handling decimal or exact calculations, such as the decimal module in Python."
   ]
  },
  {
   "cell_type": "raw",
   "id": "894ddd14",
   "metadata": {},
   "source": [
    "Q9. Create a variable named name and assign your full name to it as a string. How would you print the\n",
    "value of this variable?"
   ]
  },
  {
   "cell_type": "raw",
   "id": "c0c05ce9",
   "metadata": {},
   "source": [
    "name = \"Your Full Name\"\n",
    "print(name)\n",
    "name = \"John Doe\"\n",
    "print(name)\n",
    "\n",
    "OUTPUT:\n",
    "    John Doe\n"
   ]
  },
  {
   "cell_type": "raw",
   "id": "f393d8f0",
   "metadata": {},
   "source": [
    "Q10. Given the string \"Hello, World!\", extract the substring \"World\"."
   ]
  },
  {
   "cell_type": "raw",
   "id": "6a4c4908",
   "metadata": {},
   "source": [
    "string = \"Hello, World!\"\n",
    "substring = string[7:12]\n",
    "print(substring)\n",
    "\n",
    "output:\n",
    "    World\n",
    "\n",
    "    "
   ]
  },
  {
   "cell_type": "raw",
   "id": "55b5d80a",
   "metadata": {},
   "source": [
    "Q11. Create a variable named \"is_student\" and assign it a boolean value indicating whether you are\n",
    "currently a student or not."
   ]
  },
  {
   "cell_type": "raw",
   "id": "795a0244",
   "metadata": {},
   "source": [
    "is_student = True\n",
    "\n",
    "Replace True with False depending on your student status. Set it to True if you are currently a student or False if you are not.\n",
    "\n",
    "In Python, boolean values are either True or False. They are used to represent the truth value of an expression or a condition. In this case, the is_student variable is assigned a boolean value to indicate whether you are currently a student (True) or not (False).\n",
    "\n",
    "You can use the is_student variable in your program to perform conditional checks, decision-making, or any other logic that depends on your student status\n"
   ]
  }
 ],
 "metadata": {
  "kernelspec": {
   "display_name": "Python 3 (ipykernel)",
   "language": "python",
   "name": "python3"
  },
  "language_info": {
   "codemirror_mode": {
    "name": "ipython",
    "version": 3
   },
   "file_extension": ".py",
   "mimetype": "text/x-python",
   "name": "python",
   "nbconvert_exporter": "python",
   "pygments_lexer": "ipython3",
   "version": "3.9.13"
  }
 },
 "nbformat": 4,
 "nbformat_minor": 5
}
